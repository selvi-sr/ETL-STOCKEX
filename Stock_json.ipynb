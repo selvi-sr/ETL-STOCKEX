{
 "cells": [
  {
   "cell_type": "code",
   "execution_count": 1,
   "metadata": {},
   "outputs": [],
   "source": [
    "import pandas as pd\n",
    "import requests\n",
    "from config import api_key\n",
    "import json\n",
    "import csv\n",
    "\n",
    "import datetime\n",
    "from datetime import date\n",
    "import re"
   ]
  },
  {
   "cell_type": "code",
   "execution_count": 2,
   "metadata": {},
   "outputs": [
    {
     "data": {
      "text/html": [
       "<div>\n",
       "<style scoped>\n",
       "    .dataframe tbody tr th:only-of-type {\n",
       "        vertical-align: middle;\n",
       "    }\n",
       "\n",
       "    .dataframe tbody tr th {\n",
       "        vertical-align: top;\n",
       "    }\n",
       "\n",
       "    .dataframe thead th {\n",
       "        text-align: right;\n",
       "    }\n",
       "</style>\n",
       "<table border=\"1\" class=\"dataframe\">\n",
       "  <thead>\n",
       "    <tr style=\"text-align: right;\">\n",
       "      <th></th>\n",
       "      <th>company_name</th>\n",
       "      <th>nasdaq</th>\n",
       "      <th>id</th>\n",
       "    </tr>\n",
       "  </thead>\n",
       "  <tbody>\n",
       "    <tr>\n",
       "      <th>0</th>\n",
       "      <td>Microsft</td>\n",
       "      <td>MSFT</td>\n",
       "      <td>3</td>\n",
       "    </tr>\n",
       "    <tr>\n",
       "      <th>1</th>\n",
       "      <td>Google</td>\n",
       "      <td>GOOGL</td>\n",
       "      <td>5</td>\n",
       "    </tr>\n",
       "    <tr>\n",
       "      <th>2</th>\n",
       "      <td>Netflix</td>\n",
       "      <td>NFLX</td>\n",
       "      <td>4</td>\n",
       "    </tr>\n",
       "    <tr>\n",
       "      <th>3</th>\n",
       "      <td>Amazon</td>\n",
       "      <td>AMZN</td>\n",
       "      <td>1</td>\n",
       "    </tr>\n",
       "    <tr>\n",
       "      <th>4</th>\n",
       "      <td>CISCO</td>\n",
       "      <td>CSCO</td>\n",
       "      <td>2</td>\n",
       "    </tr>\n",
       "  </tbody>\n",
       "</table>\n",
       "</div>"
      ],
      "text/plain": [
       "  company_name nasdaq  id\n",
       "0     Microsft   MSFT   3\n",
       "1       Google  GOOGL   5\n",
       "2      Netflix   NFLX   4\n",
       "3       Amazon   AMZN   1\n",
       "4        CISCO   CSCO   2"
      ]
     },
     "execution_count": 2,
     "metadata": {},
     "output_type": "execute_result"
    }
   ],
   "source": [
    "output_data_file = \"stock_info.csv\"\n",
    "nasdaq_pd = pd.read_csv(\"nasdaq.csv\")\n",
    "nasdaq_pd"
   ]
  },
  {
   "cell_type": "code",
   "execution_count": 3,
   "metadata": {},
   "outputs": [],
   "source": [
    "url = \"https://www.alphavantage.co/query?\"\n",
    "function = \"TIME_SERIES_DAILY_ADJUSTED\"\n",
    "datatype=\"json\"\n",
    "outputsize='compact'\n",
    "\n",
    "response_df = pd.DataFrame()\n",
    "response_df['NASDAQ'] = \"\""
   ]
  },
  {
   "cell_type": "code",
   "execution_count": 4,
   "metadata": {},
   "outputs": [],
   "source": [
    "date_l=[]\n",
    "open_l=[]\n",
    "high_l=[]\n",
    "low_l=[]\n",
    "close_l=[]\n",
    "adjusted_close_l=[]\n",
    "volume_l=[]\n",
    "dividend_amount_l=[]\n",
    "split_coefficient_l=[]\n",
    "comp_name_l=[]\n",
    "date_list=[]\n",
    "meta_list=[]\n",
    "comp_id=[]"
   ]
  },
  {
   "cell_type": "code",
   "execution_count": 5,
   "metadata": {},
   "outputs": [],
   "source": [
    "for index, row in nasdaq_pd.iterrows():\n",
    "    try:\n",
    "\n",
    "        symbol = row['nasdaq']\n",
    "        query_url=f\"{url}function={function}&symbol={symbol}&outputsize={outputsize}&apikey={api_key}&datatype={datatype}\"  \n",
    "        stock_response = requests.get(query_url)\n",
    "        stock_json = stock_response.json()\n",
    "        #print(json.dumps(stock_json,indent=4))\n",
    "       \n",
    "        date=stock_json[\"Time Series (Daily)\"]\n",
    "        temp=row['id']\n",
    "\n",
    "        for d in date.keys():\n",
    "            date_l.append(d)\n",
    "            meta_list.append(stock_json[\"Meta Data\"][\"2. Symbol\"])\n",
    "            comp_id.append(temp)\n",
    "            open_l.append(stock_json[\"Time Series (Daily)\"][d][\"1. open\"])\n",
    "            high_l.append(stock_json[\"Time Series (Daily)\"][d][\"2. high\"])\n",
    "            low_l.append(stock_json[\"Time Series (Daily)\"][d][\"3. low\"])\n",
    "            close_l.append(stock_json[\"Time Series (Daily)\"][d][\"4. close\"])\n",
    "            adjusted_close_l.append(stock_json[\"Time Series (Daily)\"][d][\"5. adjusted close\"])\n",
    "            volume_l.append(stock_json[\"Time Series (Daily)\"][d][\"6. volume\"])\n",
    "            dividend_amount_l.append(stock_json[\"Time Series (Daily)\"][d][\"7. dividend amount\"])\n",
    "            split_coefficient_l.append(stock_json[\"Time Series (Daily)\"][d][\"8. split coefficient\"])\n",
    "    except KeyError:\n",
    "        print('Skipping {}'.format(row['nasdaq']))\n",
    "\n",
    "            \n",
    "    \n",
    "stock_df = pd.DataFrame({\n",
    "    \n",
    "    'date': date_l,\n",
    "    'comp_name':meta_list,\n",
    "    'comp_id':comp_id,\n",
    "    'open': open_l,\n",
    "    'close': close_l,\n",
    "    'high':high_l,\n",
    "    'low':low_l,\n",
    "    'adjusted_close':adjusted_close_l,\n",
    "    'volume':volume_l,\n",
    "    'dividend_amount':dividend_amount_l,\n",
    "    'split_coefficient':split_coefficient_l\n",
    "    \n",
    "    \n",
    "})   \n",
    "#stock_df"
   ]
  },
  {
   "cell_type": "code",
   "execution_count": 6,
   "metadata": {},
   "outputs": [
    {
     "data": {
      "text/html": [
       "<div>\n",
       "<style scoped>\n",
       "    .dataframe tbody tr th:only-of-type {\n",
       "        vertical-align: middle;\n",
       "    }\n",
       "\n",
       "    .dataframe tbody tr th {\n",
       "        vertical-align: top;\n",
       "    }\n",
       "\n",
       "    .dataframe thead th {\n",
       "        text-align: right;\n",
       "    }\n",
       "</style>\n",
       "<table border=\"1\" class=\"dataframe\">\n",
       "  <thead>\n",
       "    <tr style=\"text-align: right;\">\n",
       "      <th></th>\n",
       "      <th>date</th>\n",
       "      <th>comp_name</th>\n",
       "      <th>comp_id</th>\n",
       "      <th>open</th>\n",
       "      <th>close</th>\n",
       "      <th>high</th>\n",
       "      <th>low</th>\n",
       "      <th>adjusted_close</th>\n",
       "      <th>volume</th>\n",
       "      <th>dividend_amount</th>\n",
       "      <th>split_coefficient</th>\n",
       "    </tr>\n",
       "  </thead>\n",
       "  <tbody>\n",
       "    <tr>\n",
       "      <th>0</th>\n",
       "      <td>2019-11-13</td>\n",
       "      <td>MSFT</td>\n",
       "      <td>3</td>\n",
       "      <td>146.7400</td>\n",
       "      <td>147.0500</td>\n",
       "      <td>147.4625</td>\n",
       "      <td>146.2800</td>\n",
       "      <td>147.0500</td>\n",
       "      <td>7894736</td>\n",
       "      <td>0.0000</td>\n",
       "      <td>1.0000</td>\n",
       "    </tr>\n",
       "    <tr>\n",
       "      <th>1</th>\n",
       "      <td>2019-11-12</td>\n",
       "      <td>MSFT</td>\n",
       "      <td>3</td>\n",
       "      <td>146.2800</td>\n",
       "      <td>147.0700</td>\n",
       "      <td>147.5700</td>\n",
       "      <td>146.0600</td>\n",
       "      <td>147.0700</td>\n",
       "      <td>18641600</td>\n",
       "      <td>0.0000</td>\n",
       "      <td>1.0000</td>\n",
       "    </tr>\n",
       "    <tr>\n",
       "      <th>2</th>\n",
       "      <td>2019-11-11</td>\n",
       "      <td>MSFT</td>\n",
       "      <td>3</td>\n",
       "      <td>145.3400</td>\n",
       "      <td>146.1100</td>\n",
       "      <td>146.4200</td>\n",
       "      <td>144.7300</td>\n",
       "      <td>146.1100</td>\n",
       "      <td>14362600</td>\n",
       "      <td>0.0000</td>\n",
       "      <td>1.0000</td>\n",
       "    </tr>\n",
       "    <tr>\n",
       "      <th>3</th>\n",
       "      <td>2019-11-08</td>\n",
       "      <td>MSFT</td>\n",
       "      <td>3</td>\n",
       "      <td>143.9800</td>\n",
       "      <td>145.9600</td>\n",
       "      <td>145.9900</td>\n",
       "      <td>143.7600</td>\n",
       "      <td>145.9600</td>\n",
       "      <td>16732700</td>\n",
       "      <td>0.0000</td>\n",
       "      <td>1.0000</td>\n",
       "    </tr>\n",
       "    <tr>\n",
       "      <th>4</th>\n",
       "      <td>2019-11-07</td>\n",
       "      <td>MSFT</td>\n",
       "      <td>3</td>\n",
       "      <td>143.8400</td>\n",
       "      <td>144.2600</td>\n",
       "      <td>144.8800</td>\n",
       "      <td>143.7700</td>\n",
       "      <td>144.2600</td>\n",
       "      <td>17786700</td>\n",
       "      <td>0.0000</td>\n",
       "      <td>1.0000</td>\n",
       "    </tr>\n",
       "  </tbody>\n",
       "</table>\n",
       "</div>"
      ],
      "text/plain": [
       "         date comp_name  comp_id      open     close      high       low  \\\n",
       "0  2019-11-13      MSFT        3  146.7400  147.0500  147.4625  146.2800   \n",
       "1  2019-11-12      MSFT        3  146.2800  147.0700  147.5700  146.0600   \n",
       "2  2019-11-11      MSFT        3  145.3400  146.1100  146.4200  144.7300   \n",
       "3  2019-11-08      MSFT        3  143.9800  145.9600  145.9900  143.7600   \n",
       "4  2019-11-07      MSFT        3  143.8400  144.2600  144.8800  143.7700   \n",
       "\n",
       "  adjusted_close    volume dividend_amount split_coefficient  \n",
       "0       147.0500   7894736          0.0000            1.0000  \n",
       "1       147.0700  18641600          0.0000            1.0000  \n",
       "2       146.1100  14362600          0.0000            1.0000  \n",
       "3       145.9600  16732700          0.0000            1.0000  \n",
       "4       144.2600  17786700          0.0000            1.0000  "
      ]
     },
     "execution_count": 6,
     "metadata": {},
     "output_type": "execute_result"
    }
   ],
   "source": [
    "stock_data = pd.DataFrame(stock_df)\n",
    "stock_data.head()"
   ]
  },
  {
   "cell_type": "code",
   "execution_count": 7,
   "metadata": {},
   "outputs": [
    {
     "data": {
      "text/plain": [
       "500"
      ]
     },
     "execution_count": 7,
     "metadata": {},
     "output_type": "execute_result"
    }
   ],
   "source": [
    "len(stock_data)"
   ]
  },
  {
   "cell_type": "code",
   "execution_count": 8,
   "metadata": {},
   "outputs": [],
   "source": [
    "stock_data.dropna(axis = 0, how ='all', inplace = True) "
   ]
  },
  {
   "cell_type": "code",
   "execution_count": 9,
   "metadata": {},
   "outputs": [
    {
     "data": {
      "text/plain": [
       "500"
      ]
     },
     "execution_count": 9,
     "metadata": {},
     "output_type": "execute_result"
    }
   ],
   "source": [
    "len(stock_data)"
   ]
  },
  {
   "cell_type": "code",
   "execution_count": 10,
   "metadata": {},
   "outputs": [],
   "source": [
    "# stock_data_df = stock_data.drop_duplicates(subset=None, keep='first', inplace=False)\n",
    "# len(stock_data_df)"
   ]
  },
  {
   "cell_type": "code",
   "execution_count": 11,
   "metadata": {},
   "outputs": [],
   "source": [
    "#stock_data.to_csv(output_data_file, index=False)"
   ]
  },
  {
   "cell_type": "code",
   "execution_count": 12,
   "metadata": {},
   "outputs": [
    {
     "name": "stdout",
     "output_type": "stream",
     "text": [
      "2019\n"
     ]
    }
   ],
   "source": [
    "start_date='2019-10-15'\n",
    "ys, ms, ds=start_date.split('-')\n",
    "print(ys)"
   ]
  },
  {
   "cell_type": "code",
   "execution_count": 13,
   "metadata": {},
   "outputs": [
    {
     "name": "stdout",
     "output_type": "stream",
     "text": [
      "10\n"
     ]
    }
   ],
   "source": [
    "end_date='2019-10-31'\n",
    "ye, me, de=end_date.split('-')\n",
    "print(me)"
   ]
  },
  {
   "cell_type": "code",
   "execution_count": 14,
   "metadata": {},
   "outputs": [],
   "source": [
    "datel=[]\n",
    "openl=[]\n",
    "highl=[]\n",
    "lowl=[]\n",
    "closel=[]\n",
    "adjusted_closel=[]\n",
    "volumel=[]\n",
    "dividend_amountl=[]\n",
    "split_coefficientl=[]\n",
    "comp_idl=[]\n",
    "datelist=[]\n",
    "metalist=[]\n",
    "\n",
    "for ind, ro in stock_data.iterrows():\n",
    "    y, m, d=(ro['date'].split('-'))\n",
    "    if y==ys and m==ms and d>=ds:\n",
    "        #print(ro['date'])\n",
    "        datel.append(ro['date'])\n",
    "        openl.append(ro['open'])\n",
    "        closel.append(ro['close'])\n",
    "        comp_idl.append(ro['comp_id'])\n",
    "        highl.append(ro['high'])\n",
    "        lowl.append(ro['low'])\n",
    "        adjusted_closel.append(ro['adjusted_close'])\n",
    "        volumel.append(ro['volume'])\n",
    "        dividend_amountl.append(ro['dividend_amount'])\n",
    "        split_coefficientl.append(ro['split_coefficient'])\n",
    "        \n",
    "        \n"
   ]
  },
  {
   "cell_type": "code",
   "execution_count": 15,
   "metadata": {},
   "outputs": [
    {
     "data": {
      "text/html": [
       "<div>\n",
       "<style scoped>\n",
       "    .dataframe tbody tr th:only-of-type {\n",
       "        vertical-align: middle;\n",
       "    }\n",
       "\n",
       "    .dataframe tbody tr th {\n",
       "        vertical-align: top;\n",
       "    }\n",
       "\n",
       "    .dataframe thead th {\n",
       "        text-align: right;\n",
       "    }\n",
       "</style>\n",
       "<table border=\"1\" class=\"dataframe\">\n",
       "  <thead>\n",
       "    <tr style=\"text-align: right;\">\n",
       "      <th></th>\n",
       "      <th>date</th>\n",
       "      <th>comp_id</th>\n",
       "      <th>open</th>\n",
       "      <th>close</th>\n",
       "      <th>high</th>\n",
       "      <th>low</th>\n",
       "      <th>adjusted_close</th>\n",
       "      <th>volume</th>\n",
       "      <th>dividend_amount</th>\n",
       "      <th>split_coefficient</th>\n",
       "    </tr>\n",
       "  </thead>\n",
       "  <tbody>\n",
       "    <tr>\n",
       "      <th>0</th>\n",
       "      <td>2019-10-31</td>\n",
       "      <td>3</td>\n",
       "      <td>144.9000</td>\n",
       "      <td>143.3700</td>\n",
       "      <td>144.9300</td>\n",
       "      <td>142.9900</td>\n",
       "      <td>143.3700</td>\n",
       "      <td>24605100</td>\n",
       "      <td>0.0000</td>\n",
       "      <td>1.0000</td>\n",
       "    </tr>\n",
       "    <tr>\n",
       "      <th>1</th>\n",
       "      <td>2019-10-30</td>\n",
       "      <td>3</td>\n",
       "      <td>143.5200</td>\n",
       "      <td>144.6100</td>\n",
       "      <td>145.0000</td>\n",
       "      <td>142.7900</td>\n",
       "      <td>144.6100</td>\n",
       "      <td>18496600</td>\n",
       "      <td>0.0000</td>\n",
       "      <td>1.0000</td>\n",
       "    </tr>\n",
       "    <tr>\n",
       "      <th>2</th>\n",
       "      <td>2019-10-29</td>\n",
       "      <td>3</td>\n",
       "      <td>144.0800</td>\n",
       "      <td>142.8300</td>\n",
       "      <td>144.5000</td>\n",
       "      <td>142.6500</td>\n",
       "      <td>142.8300</td>\n",
       "      <td>20589500</td>\n",
       "      <td>0.0000</td>\n",
       "      <td>1.0000</td>\n",
       "    </tr>\n",
       "    <tr>\n",
       "      <th>3</th>\n",
       "      <td>2019-10-28</td>\n",
       "      <td>3</td>\n",
       "      <td>144.4000</td>\n",
       "      <td>144.1900</td>\n",
       "      <td>145.6700</td>\n",
       "      <td>143.5100</td>\n",
       "      <td>144.1900</td>\n",
       "      <td>35280100</td>\n",
       "      <td>0.0000</td>\n",
       "      <td>1.0000</td>\n",
       "    </tr>\n",
       "    <tr>\n",
       "      <th>4</th>\n",
       "      <td>2019-10-25</td>\n",
       "      <td>3</td>\n",
       "      <td>139.3400</td>\n",
       "      <td>140.7300</td>\n",
       "      <td>141.1400</td>\n",
       "      <td>139.2000</td>\n",
       "      <td>140.7300</td>\n",
       "      <td>25959700</td>\n",
       "      <td>0.0000</td>\n",
       "      <td>1.0000</td>\n",
       "    </tr>\n",
       "  </tbody>\n",
       "</table>\n",
       "</div>"
      ],
      "text/plain": [
       "         date  comp_id      open     close      high       low adjusted_close  \\\n",
       "0  2019-10-31        3  144.9000  143.3700  144.9300  142.9900       143.3700   \n",
       "1  2019-10-30        3  143.5200  144.6100  145.0000  142.7900       144.6100   \n",
       "2  2019-10-29        3  144.0800  142.8300  144.5000  142.6500       142.8300   \n",
       "3  2019-10-28        3  144.4000  144.1900  145.6700  143.5100       144.1900   \n",
       "4  2019-10-25        3  139.3400  140.7300  141.1400  139.2000       140.7300   \n",
       "\n",
       "     volume dividend_amount split_coefficient  \n",
       "0  24605100          0.0000            1.0000  \n",
       "1  18496600          0.0000            1.0000  \n",
       "2  20589500          0.0000            1.0000  \n",
       "3  35280100          0.0000            1.0000  \n",
       "4  25959700          0.0000            1.0000  "
      ]
     },
     "execution_count": 15,
     "metadata": {},
     "output_type": "execute_result"
    }
   ],
   "source": [
    "final_stock_df = pd.DataFrame({\n",
    "    \n",
    "    'date': datel,\n",
    "    'comp_id':comp_idl,\n",
    "    'open': openl,\n",
    "    'close': closel,\n",
    "    'high':highl,\n",
    "    'low':lowl,\n",
    "    'adjusted_close':adjusted_closel,\n",
    "    'volume':volumel,\n",
    "    'dividend_amount':dividend_amountl,\n",
    "    'split_coefficient':split_coefficientl\n",
    "    \n",
    "    \n",
    "})   \n",
    "final_stock_df.head()"
   ]
  },
  {
   "cell_type": "code",
   "execution_count": 16,
   "metadata": {},
   "outputs": [],
   "source": [
    "final_stock_df.to_csv(output_data_file, index=False)"
   ]
  },
  {
   "cell_type": "code",
   "execution_count": null,
   "metadata": {},
   "outputs": [],
   "source": []
  },
  {
   "cell_type": "code",
   "execution_count": null,
   "metadata": {},
   "outputs": [],
   "source": []
  },
  {
   "cell_type": "code",
   "execution_count": null,
   "metadata": {},
   "outputs": [],
   "source": []
  }
 ],
 "metadata": {
  "kernelspec": {
   "display_name": "Python 3",
   "language": "python",
   "name": "python3"
  },
  "language_info": {
   "codemirror_mode": {
    "name": "ipython",
    "version": 3
   },
   "file_extension": ".py",
   "mimetype": "text/x-python",
   "name": "python",
   "nbconvert_exporter": "python",
   "pygments_lexer": "ipython3",
   "version": "3.7.3"
  }
 },
 "nbformat": 4,
 "nbformat_minor": 2
}
